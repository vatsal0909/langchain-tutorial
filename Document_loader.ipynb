{
 "cells": [
  {
   "cell_type": "markdown",
   "id": "a6386315",
   "metadata": {},
   "source": [
    "# Document Loader"
   ]
  },
  {
   "cell_type": "markdown",
   "id": "f2970bb1",
   "metadata": {},
   "source": [
    "## normal loading of document using Pypdf"
   ]
  },
  {
   "cell_type": "code",
   "execution_count": 2,
   "id": "803fa211",
   "metadata": {},
   "outputs": [
    {
     "name": "stdout",
     "output_type": "stream",
     "text": [
      "CONTENTS\n",
      "FOREWORD iii\n",
      "PART  I   F OUNDATIONS OF BUSINESS 1\n",
      "CHAPTER 1 Business, Trade and Commerce 2\n",
      "CHAPTER 2 Forms of Business Organisation 27\n",
      "CHAPTER 3 Private, Public and Global Enterprises 60\n",
      "CHAPTER 4 Business Services 83\n",
      "CHAPTER 5 Emerging Modes of Business 118\n",
      "CHAPTER 6 Social Responsibilities of Business\n",
      "and Business Ethics145\n",
      "PART  II   C ORPORATE ORGANISATION, FINANCE AND TRADE 164\n",
      "CHAPTER 7 Formation of a Company 165\n",
      "CHAPTER 8 Sources of Business Finance 186\n",
      "CHAPTER 9 Small Business 213\n",
      "CHAPTER 10 Internal Trade 231\n",
      "CHAPTER 11 International Business 261\n",
      "FORM NO. INC-1 Application for reservation of Name 309\n",
      "2018-19\n"
     ]
    }
   ],
   "source": [
    "from langchain_community.document_loaders import PyPDFLoader\n",
    "\n",
    "loader = PyPDFLoader('../langchain-tutorial/documents/Business Studies.pdf')\n",
    "docs = loader.load()\n",
    "\n",
    "print(docs[0].page_content)"
   ]
  },
  {
   "cell_type": "markdown",
   "id": "61231cfd",
   "metadata": {},
   "source": [
    "### lazy loading"
   ]
  },
  {
   "cell_type": "code",
   "execution_count": null,
   "id": "02fd8f00",
   "metadata": {},
   "outputs": [
    {
     "ename": "TypeError",
     "evalue": "'generator' object is not subscriptable",
     "output_type": "error",
     "traceback": [
      "\u001b[1;31m---------------------------------------------------------------------------\u001b[0m",
      "\u001b[1;31mTypeError\u001b[0m                                 Traceback (most recent call last)",
      "Cell \u001b[1;32mIn[7], line 2\u001b[0m\n\u001b[0;32m      1\u001b[0m docs \u001b[38;5;241m=\u001b[39m loader\u001b[38;5;241m.\u001b[39mlazy_load()\n\u001b[1;32m----> 2\u001b[0m \u001b[38;5;28mprint\u001b[39m(docs[\u001b[38;5;241m0\u001b[39m]\u001b[38;5;241m.\u001b[39mpage_content)\n",
      "\u001b[1;31mTypeError\u001b[0m: 'generator' object is not subscriptable"
     ]
    }
   ],
   "source": [
    "docs = loader.lazy_load()\n",
    "for i in docs:\n",
    "    print(i.page_content)"
   ]
  },
  {
   "cell_type": "markdown",
   "id": "731c7784",
   "metadata": {},
   "source": [
    "### directory reader"
   ]
  },
  {
   "cell_type": "code",
   "execution_count": 8,
   "id": "c72ef4fd",
   "metadata": {},
   "outputs": [
    {
     "name": "stdout",
     "output_type": "stream",
     "text": [
      "1045\n"
     ]
    }
   ],
   "source": [
    "from langchain_community.document_loaders import DirectoryLoader\n",
    "\n",
    "loader = DirectoryLoader(\n",
    "    path='documents/',\n",
    "    glob='*.pdf',\n",
    "    loader_cls=PyPDFLoader\n",
    ")\n",
    "\n",
    "docs = loader.load()\n",
    "print(len(docs))\n"
   ]
  },
  {
   "cell_type": "code",
   "execution_count": 10,
   "id": "f82ccba7",
   "metadata": {},
   "outputs": [
    {
     "data": {
      "text/plain": [
       "'Democracy\\nand\\nEducation\\nby\\nJohn Dewey\\nA Penn State Electronic Classics Series Publication'"
      ]
     },
     "execution_count": 10,
     "metadata": {},
     "output_type": "execute_result"
    }
   ],
   "source": [
    "docs[0].page_content"
   ]
  },
  {
   "cell_type": "code",
   "execution_count": 11,
   "id": "679b9a72",
   "metadata": {},
   "outputs": [
    {
     "data": {
      "text/plain": [
       "{'producer': 'Acrobat Distiller 5.0 (Windows)',\n",
       " 'creator': 'Adobe PageMaker 6.52',\n",
       " 'creationdate': '2001-10-07T17:42:13+00:00',\n",
       " 'moddate': '2001-10-07T13:45:01-03:00',\n",
       " 'author': 'James Manis, ed.; John Dewey',\n",
       " 'title': 'dem&ed',\n",
       " 'subject': 'dem&ed',\n",
       " 'keywords': 'John,Dewey,,Democracy,and,Education',\n",
       " 'source': 'documents\\\\10. democracy and education by dewey.pdf',\n",
       " 'total_pages': 368,\n",
       " 'page': 361,\n",
       " 'page_label': '362'}"
      ]
     },
     "execution_count": 11,
     "metadata": {},
     "output_type": "execute_result"
    }
   ],
   "source": [
    "docs[361].metadata"
   ]
  },
  {
   "cell_type": "code",
   "execution_count": 12,
   "id": "75061cfe",
   "metadata": {},
   "outputs": [
    {
     "data": {
      "text/plain": [
       "'368\\nDemocracy & Education\\nto growth. Interest in learning from all the contacts of\\nlife is the essential moral interest.\\nTo return to the Electronic Clas-\\nsics Series page, go to\\nhttp://www.hn.psu.edu/faculty/\\njmanis/jimspdf.htm\\nTo return to the John Dewey\\npage, go to\\nhttp://www.hn.psu.edu/faculty/\\njmanis/johndewey.htm'"
      ]
     },
     "execution_count": 12,
     "metadata": {},
     "output_type": "execute_result"
    }
   ],
   "source": [
    "docs[367].page_content"
   ]
  },
  {
   "cell_type": "code",
   "execution_count": 13,
   "id": "96abea15",
   "metadata": {},
   "outputs": [
    {
     "data": {
      "text/plain": [
       "'CONTENTS\\nFOREWORD iii\\nPART  I   F OUNDATIONS OF BUSINESS 1\\nCHAPTER 1 Business, Trade and Commerce 2\\nCHAPTER 2 Forms of Business Organisation 27\\nCHAPTER 3 Private, Public and Global Enterprises 60\\nCHAPTER 4 Business Services 83\\nCHAPTER 5 Emerging Modes of Business 118\\nCHAPTER 6 Social Responsibilities of Business\\nand Business Ethics145\\nPART  II   C ORPORATE ORGANISATION, FINANCE AND TRADE 164\\nCHAPTER 7 Formation of a Company 165\\nCHAPTER 8 Sources of Business Finance 186\\nCHAPTER 9 Small Business 213\\nCHAPTER 10 Internal Trade 231\\nCHAPTER 11 International Business 261\\nFORM NO. INC-1 Application for reservation of Name 309\\n2018-19'"
      ]
     },
     "execution_count": 13,
     "metadata": {},
     "output_type": "execute_result"
    }
   ],
   "source": [
    "docs[368].page_content"
   ]
  },
  {
   "cell_type": "markdown",
   "id": "06e672cc",
   "metadata": {},
   "source": [
    "### web loader"
   ]
  },
  {
   "cell_type": "code",
   "execution_count": 15,
   "id": "d938889f",
   "metadata": {},
   "outputs": [],
   "source": [
    "from langchain_community.document_loaders import WebBaseLoader\n",
    "loader = WebBaseLoader('https://python.langchain.com/docs/introduction/')\n",
    "docs = loader.lazy_load()\n",
    "\n",
    "for i in docs:\n",
    "    with open('saved_reponse_from_web.txt','a') as f:\n",
    "        f.write(i.page_content)\n",
    "         \n"
   ]
  },
  {
   "cell_type": "code",
   "execution_count": 16,
   "id": "b72f1f98",
   "metadata": {},
   "outputs": [],
   "source": [
    "loader = WebBaseLoader('https://betterstack.com/community/questions/how-to-append-to-a-file-in-python/')\n",
    "docs = loader.lazy_load()\n",
    "\n",
    "for i in docs:\n",
    "    with open('saved_reponse_from_web.txt','a') as f:\n",
    "        f.write(i.page_content)"
   ]
  },
  {
   "cell_type": "markdown",
   "id": "d3705c4b",
   "metadata": {},
   "source": [
    "## extra loader from langhchain pracitce"
   ]
  },
  {
   "cell_type": "code",
   "execution_count": 21,
   "id": "bf891b02",
   "metadata": {},
   "outputs": [],
   "source": [
    "from langchain_community.document_loaders import YoutubeLoader\n",
    "loader = YoutubeLoader.from_youtube_url(\n",
    "    \"https://www.youtube.com/watch?v=xpOpKa4yBBA\", add_video_info=False\n",
    ")\n",
    "docs = loader.lazy_load()\n",
    "for i in docs:\n",
    "    with open('youtube_transscript.txt','a') as f:\n",
    "        f.write(i.page_content)\n",
    "         "
   ]
  }
 ],
 "metadata": {
  "kernelspec": {
   "display_name": "base",
   "language": "python",
   "name": "python3"
  },
  "language_info": {
   "codemirror_mode": {
    "name": "ipython",
    "version": 3
   },
   "file_extension": ".py",
   "mimetype": "text/x-python",
   "name": "python",
   "nbconvert_exporter": "python",
   "pygments_lexer": "ipython3",
   "version": "3.12.7"
  }
 },
 "nbformat": 4,
 "nbformat_minor": 5
}
