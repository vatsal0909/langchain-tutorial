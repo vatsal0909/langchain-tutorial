{
 "cells": [
  {
   "cell_type": "code",
   "execution_count": 14,
   "metadata": {},
   "outputs": [
    {
     "name": "stdout",
     "output_type": "stream",
     "text": [
      "Black holes are regions of spacetime with immensely strong gravity.  Nothing, including light, can escape their pull.  They form from the gravitational collapse of massive stars.  The event horizon marks the point of no return; crossing it means inevitable capture.  A black hole's gravity is so intense it distorts spacetime itself.  Its mass is concentrated in a singularity at the center.  The size of a black hole is determined by its mass.  Larger mass means a larger event horizon.  Black holes can be stellar-mass or supermassive.  Supermassive black holes reside at the centers of galaxies.  They influence the surrounding galaxy's structure and evolution.  Accretion disks form around black holes as matter spirals inward.  This accretion generates intense radiation.  Scientists study black holes using gravitational waves and electromagnetic radiation.  Their existence confirms Einstein's theory of general relativity.  Understanding black holes helps us understand the universe's evolution.  They represent extreme gravity's ultimate triumph.\n"
     ]
    }
   ],
   "source": [
    "from dotenv import load_dotenv\n",
    "from langchain_core.prompts import PromptTemplate\n",
    "from langchain_google_genai import ChatGoogleGenerativeAI\n",
    "from langchain_core.output_parsers import StrOutputParser\n",
    "\n",
    "model = ChatGoogleGenerativeAI(model='gemini-1.5-flash')\n",
    "parser = StrOutputParser()\n",
    "\n",
    "template1 = PromptTemplate(template=\"\"\"generate brief description on {topic}\"\"\",input_variables=['topic'])\n",
    "\n",
    "\n",
    "template2 = PromptTemplate(template=\"\"\"20 line summary on {topic}\"\"\",input_variables=['topic'])\n",
    "\n",
    "chain = template1 | model | parser | template2 | model | parser\n",
    "res = chain.invoke({'topic':\"Black hole\"})\n",
    "print(res)"
   ]
  }
 ],
 "metadata": {
  "kernelspec": {
   "display_name": "base",
   "language": "python",
   "name": "python3"
  },
  "language_info": {
   "codemirror_mode": {
    "name": "ipython",
    "version": 3
   },
   "file_extension": ".py",
   "mimetype": "text/x-python",
   "name": "python",
   "nbconvert_exporter": "python",
   "pygments_lexer": "ipython3",
   "version": "3.12.7"
  }
 },
 "nbformat": 4,
 "nbformat_minor": 2
}
