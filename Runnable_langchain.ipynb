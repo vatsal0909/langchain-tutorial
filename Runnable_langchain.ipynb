{
 "cells": [
  {
   "cell_type": "markdown",
   "metadata": {},
   "source": [
    "# langchain Runnables"
   ]
  },
  {
   "cell_type": "code",
   "execution_count": null,
   "metadata": {},
   "outputs": [],
   "source": [
    "from dotenv import load_dotenv\n",
    "from langchain_google_genai import ChatGoogleGenerativeAI\n",
    "load_dotenv()\n",
    "from langchain_core.runnables import RunnableLambda, RunnableParallel,RunnablePassthrough\n",
    "from langchain_core.prompts import PromptTemplate\n",
    "from langchain_core.output_parsers import StrOutputParser\n",
    "\n",
    "def fun_runnable(input:str):\n",
    "    return print(input),len(input.split())\n",
    "\n",
    "prompt_template1 = PromptTemplate(\n",
    "    template=\"generate brief overview of the follwing topic {topic}\",\n",
    "    input_variables=['topic']\n",
    ")\n",
    "\n",
    "prompt_template2 = PromptTemplate(\n",
    "    template=\"generate 5 points on {summary}\",\n",
    "    input_variables=['summary']\n",
    ")\n",
    "\n",
    "parser = StrOutputParser()\n",
    "\n",
    "model = ChatGoogleGenerativeAI(model='gemini-1.5-flash')\n",
    "\n",
    "chain1 = prompt_template1|model|parser\n",
    "\n",
    "parallel_chain = RunnableParallel({\n",
    "    'saved_response': RunnablePassthrough(),\n",
    "    'key_points':prompt_template2|model|parser\n",
    "})\n",
    "\n",
    "chain = chain1|parallel_chain|RunnableLambda(lambda x: fun_runnable(x['key_points']))\n",
    "\n",
    "print(chain.invoke({'topic':'black hole'}))"
   ]
  }
 ],
 "metadata": {
  "kernelspec": {
   "display_name": "base",
   "language": "python",
   "name": "python3"
  },
  "language_info": {
   "name": "python",
   "version": "3.12.7"
  }
 },
 "nbformat": 4,
 "nbformat_minor": 2
}
