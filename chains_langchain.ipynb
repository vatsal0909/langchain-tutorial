{
 "cells": [
  {
   "cell_type": "markdown",
   "metadata": {},
   "source": [
    "# Chains"
   ]
  },
  {
   "cell_type": "markdown",
   "metadata": {},
   "source": [
    "## simple chain\n"
   ]
  },
  {
   "cell_type": "code",
   "execution_count": 4,
   "metadata": {},
   "outputs": [
    {
     "name": "stdout",
     "output_type": "stream",
     "text": [
      "1. **Protein powder isn't just for bodybuilders:** While often associated with muscle growth, protein powder can benefit a wide range of individuals, including older adults needing help maintaining muscle mass, athletes recovering from intense training, or individuals looking to increase their overall protein intake for better satiety and weight management.  It's a versatile supplement, not a niche product.\n",
      "\n",
      "2. **The source matters significantly:**  Different protein powders offer different amino acid profiles, digestibility, and potential health benefits. Whey protein is fast-digesting and ideal post-workout, casein protein is slow-digesting and good before bed, while plant-based options like soy, pea, or brown rice protein offer alternatives for those with dairy sensitivities or vegan lifestyles.  Understanding the source helps tailor the powder to individual needs.\n",
      "\n",
      "3. **Beyond muscle building, it impacts other areas of health:** Protein contributes to numerous bodily functions beyond muscle growth.  Adequate protein intake is crucial for hormone production, immune function, and maintaining healthy skin, hair, and nails.  Protein powder can be a convenient way to ensure sufficient intake, especially for those with busy lifestyles or dietary restrictions.\n",
      "\n",
      "4. **Not all protein powders are created equal:**  Be wary of misleading marketing claims. Look for powders with third-party testing verification to ensure purity and accurate labeling of protein content.  Check for added sugars, artificial sweeteners, and fillers which can negate some of the health benefits.  High-quality protein powder is an investment in your health.\n",
      "\n",
      "5. **Protein powder can be surprisingly versatile:**  It's not just for shakes!  Protein powder can be incorporated into various recipes, such as smoothies, baked goods, oatmeal, yogurt, and even sauces, offering a convenient way to boost the protein content of your favorite meals without sacrificing taste.  Experimentation is key to finding creative and enjoyable ways to use it.\n"
     ]
    }
   ],
   "source": [
    "from dotenv import load_dotenv\n",
    "from langchain_google_genai import ChatGoogleGenerativeAI\n",
    "from langchain_core.prompts import PromptTemplate\n",
    "from langchain_core.output_parsers import StrOutputParser\n",
    "parser = StrOutputParser()\n",
    "load_dotenv()\n",
    "model = ChatGoogleGenerativeAI(model='gemini-1.5-flash')\n",
    "\n",
    "prompt_template = PromptTemplate(template=\"generate 5 intresting point about {topic}\",input_variables=['topic'])\n",
    "\n",
    "chain = prompt_template|model|parser\n",
    "\n",
    "res = chain.invoke({'topic':\"protein powder\"})\n",
    "\n",
    "print(res)"
   ]
  },
  {
   "cell_type": "code",
   "execution_count": 6,
   "metadata": {},
   "outputs": [
    {
     "name": "stdout",
     "output_type": "stream",
     "text": [
      "      +-------------+      \n",
      "      | PromptInput |      \n",
      "      +-------------+      \n",
      "             *             \n",
      "             *             \n",
      "             *             \n",
      "    +----------------+     \n",
      "    | PromptTemplate |     \n",
      "    +----------------+     \n",
      "             *             \n",
      "             *             \n",
      "             *             \n",
      "+------------------------+ \n",
      "| ChatGoogleGenerativeAI | \n",
      "+------------------------+ \n",
      "             *             \n",
      "             *             \n",
      "             *             \n",
      "    +-----------------+    \n",
      "    | StrOutputParser |    \n",
      "    +-----------------+    \n",
      "             *             \n",
      "             *             \n",
      "             *             \n",
      "+-----------------------+  \n",
      "| StrOutputParserOutput |  \n",
      "+-----------------------+  \n"
     ]
    }
   ],
   "source": [
    "\n",
    "chain.get_graph().print_ascii()"
   ]
  },
  {
   "cell_type": "markdown",
   "metadata": {},
   "source": [
    "# parallel Chain"
   ]
  },
  {
   "cell_type": "code",
   "execution_count": 12,
   "metadata": {},
   "outputs": [
    {
     "name": "stdout",
     "output_type": "stream",
     "text": [
      "## Linear Regression Model Notes and Questions\n",
      "\n",
      "**I. Core Concept:**\n",
      "\n",
      "* Simple, easily interpretable mathematical formula for prediction.\n",
      "* Predicts a continuous dependent variable based on one or more independent variables.\n",
      "* Assumes a linear relationship between variables.\n",
      "\n",
      "**II. Applicability:**\n",
      "\n",
      "* **Broad range of fields:** Biological, behavioral, environmental, social sciences, and business.\n",
      "* **Versatile prediction tool:** Used for forecasting and understanding relationships between variables.  Examples include predicting sales based on advertising spend, or crop yield based on rainfall.  Another example is predicting real estate prices based on features like size, location, and age of the property.\n",
      "\n",
      "**III. Advantages:**\n",
      "\n",
      "* **Simplicity & Interpretability:** The model's equation directly shows the impact of each independent variable on the dependent variable. Coefficients are easily understood (as seen in Q2).\n",
      "* **Established Statistical Procedure:** Well-understood properties, making model evaluation and interpretation straightforward.\n",
      "* **Fast Training:** Relatively quick to train compared to more complex models.\n",
      "* **Reliable Predictions:** A proven method for generating scientifically reliable forecasts (within the limitations of the linear assumption).\n",
      "\n",
      "\n",
      "**IV. Limitations (Implicit):**\n",
      "\n",
      "* **Linearity Assumption:** Assumes a linear relationship – non-linear relationships will lead to inaccurate predictions. Transformations of variables might be needed to address this (as highlighted in Q3).\n",
      "* **Sensitivity to Outliers:** Outliers can significantly influence the model's parameters and predictions.\n",
      "* **Overfitting (potential):** While generally fast to train, overfitting can occur with insufficient data or too many predictor variables. Regularization techniques might be necessary.\n",
      "* **Correlation ≠ Causation:** A strong linear relationship doesn't necessarily imply causality.\n",
      "\n",
      "\n",
      "**V. Further Exploration:**\n",
      "\n",
      "* Types of linear regression (simple, multiple).\n",
      "* Model evaluation metrics (R-squared, adjusted R-squared, RMSE).\n",
      "* Assumptions of linear regression (linearity, independence, homoscedasticity, normality of residuals).\n",
      "* Dealing with violations of assumptions (transformations, robust regression).\n",
      "* Regularization techniques (Ridge, Lasso).\n",
      "\n",
      "\n",
      "**VI. Questions and Answers:**\n",
      "\n",
      "**1. What is the fundamental assumption behind linear regression?**\n",
      "\n",
      "* **Answer:** Linear regression assumes a *linear relationship* between the dependent variable (what you're trying to predict) and the independent variable(s) (the factors influencing the prediction). This means a change in the independent variable(s) results in a proportional change in the dependent variable. It also assumes the errors (the difference between predicted and actual values) are normally distributed and independent.\n",
      "\n",
      "**2. Why is interpretability considered a strength of linear regression models?**\n",
      "\n",
      "* **Answer:** Linear regression produces a straightforward equation (e.g., y = mx + c) where the coefficients (m and c) directly quantify the relationship between the variables. The coefficient 'm' represents the change in the dependent variable for a one-unit change in the independent variable. This makes it easy to understand the influence of each predictor on the outcome.\n",
      "\n",
      "**3. Despite its simplicity, linear regression isn't always the best choice. When might it be inappropriate to use a linear regression model?**\n",
      "\n",
      "* **Answer:** Linear regression is unsuitable when the relationship between variables is clearly non-linear (e.g., exponential, quadratic). It's also problematic when the data violates key assumptions, such as having non-normal error distributions, significant outliers, or multicollinearity (high correlation between independent variables). In these cases, other models like polynomial regression, generalized linear models, or non-parametric methods might be more appropriate.\n",
      "\n",
      "**4. How is linear regression used for prediction?**\n",
      "\n",
      "* **Answer:** Once a linear regression model is trained on a dataset (finding the best-fit line), you can plug in new values for the independent variables into the resulting equation. The equation then outputs a prediction for the dependent variable based on the learned relationship.\n",
      "\n",
      "**5. Can you give a real-world example of linear regression being used in business?**\n",
      "\n",
      "* **Answer:** A retail company might use linear regression to predict sales based on advertising spend. They could collect historical data on advertising expenditure and corresponding sales figures. By fitting a linear regression model, they can estimate how much sales revenue an increase in advertising is likely to generate, helping them make informed budget allocation decisions.\n",
      "\n",
      "\n",
      "These notes provide a concise overview. Further research into specific applications and limitations is recommended for a deeper understanding.\n"
     ]
    }
   ],
   "source": [
    "from langchain_core.runnables import RunnableParallel\n",
    "import streamlit as st\n",
    "model1 = ChatGoogleGenerativeAI(model='gemini-1.5-flash')\n",
    "model2 = ChatGoogleGenerativeAI(model='gemini-1.5-pro')\n",
    "\n",
    "prompt_template1 = PromptTemplate(\n",
    "    template=\"generate notes on given topic {topic}\",\n",
    "    input_variables=['topic']\n",
    ")\n",
    "\n",
    "prompt_template2 = PromptTemplate(\n",
    "    template=\"generate 5-6 question and anwser on topic {topic}\",\n",
    "    input_variables=['topic']\n",
    ")\n",
    "\n",
    "prompt_template3 = PromptTemplate(\n",
    "    template=\"merge notes and questions into single document notes->{notes}, questions->{quiz}\",\n",
    "    input_variables=['notes','quiz']\n",
    ")\n",
    "\n",
    "parallel_chain = RunnableParallel({\n",
    "    'notes': prompt_template1|model1|parser,\n",
    "    'quiz':prompt_template2|model2|parser\n",
    "})\n",
    "\n",
    "third_chain = prompt_template3|model1|parser\n",
    "\n",
    "final_chain = parallel_chain|third_chain\n",
    "\n",
    "text = \"\"\" Linear-regression models are relatively simple and provide an easy-to-interpret mathematical formula that can generate predictions. Linear regression can be applied to various areas in business and academic study.\n",
    "\n",
    "You’ll find that linear regression is used in everything from biological, behavioral, environmental and social sciences to business. Linear-regression models have become a proven way to scientifically and reliably predict the future. Because linear regression is a long-established statistical procedure, the properties of linear-regression models are well understood and can be trained very quickly.\"\"\"\n",
    "\n",
    "\n",
    "\n",
    "res = final_chain.invoke({'topic':text})\n",
    "print(res)\n",
    "\n"
   ]
  },
  {
   "cell_type": "code",
   "execution_count": 10,
   "metadata": {},
   "outputs": [
    {
     "name": "stdout",
     "output_type": "stream",
     "text": [
      "                    +---------------------------+                      \n",
      "                    | Parallel<notes,quiz>Input |                      \n",
      "                    +---------------------------+                      \n",
      "                       ***                   ***                       \n",
      "                   ****                         ****                   \n",
      "                 **                                 **                 \n",
      "    +----------------+                          +----------------+     \n",
      "    | PromptTemplate |                          | PromptTemplate |     \n",
      "    +----------------+                          +----------------+     \n",
      "             *                                           *             \n",
      "             *                                           *             \n",
      "             *                                           *             \n",
      "+------------------------+                  +------------------------+ \n",
      "| ChatGoogleGenerativeAI |                  | ChatGoogleGenerativeAI | \n",
      "+------------------------+                  +------------------------+ \n",
      "             *                                           *             \n",
      "             *                                           *             \n",
      "             *                                           *             \n",
      "    +-----------------+                         +-----------------+    \n",
      "    | StrOutputParser |                         | StrOutputParser |    \n",
      "    +-----------------+                         +-----------------+    \n",
      "                       ***                   ***                       \n",
      "                          ****           ****                          \n",
      "                              **       **                              \n",
      "                    +----------------------------+                     \n",
      "                    | Parallel<notes,quiz>Output |                     \n",
      "                    +----------------------------+                     \n",
      "                                   *                                   \n",
      "                                   *                                   \n",
      "                                   *                                   \n",
      "                          +----------------+                           \n",
      "                          | PromptTemplate |                           \n",
      "                          +----------------+                           \n",
      "                                   *                                   \n",
      "                                   *                                   \n",
      "                                   *                                   \n",
      "                      +------------------------+                       \n",
      "                      | ChatGoogleGenerativeAI |                       \n",
      "                      +------------------------+                       \n",
      "                                   *                                   \n",
      "                                   *                                   \n",
      "                                   *                                   \n",
      "                          +-----------------+                          \n",
      "                          | StrOutputParser |                          \n",
      "                          +-----------------+                          \n",
      "                                   *                                   \n",
      "                                   *                                   \n",
      "                                   *                                   \n",
      "                      +-----------------------+                        \n",
      "                      | StrOutputParserOutput |                        \n",
      "                      +-----------------------+                        \n"
     ]
    }
   ],
   "source": [
    "final_chain.get_graph().print_ascii()"
   ]
  }
 ],
 "metadata": {
  "kernelspec": {
   "display_name": "base",
   "language": "python",
   "name": "python3"
  },
  "language_info": {
   "codemirror_mode": {
    "name": "ipython",
    "version": 3
   },
   "file_extension": ".py",
   "mimetype": "text/x-python",
   "name": "python",
   "nbconvert_exporter": "python",
   "pygments_lexer": "ipython3",
   "version": "3.12.7"
  }
 },
 "nbformat": 4,
 "nbformat_minor": 2
}
