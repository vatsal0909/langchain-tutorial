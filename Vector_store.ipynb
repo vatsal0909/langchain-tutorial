{
 "cells": [
  {
   "cell_type": "markdown",
   "id": "e4631c43",
   "metadata": {},
   "source": [
    "# Vector Store"
   ]
  },
  {
   "cell_type": "code",
   "execution_count": 49,
   "id": "efbbab44",
   "metadata": {},
   "outputs": [],
   "source": [
    "from dotenv import load_dotenv\n",
    "from langchain_google_genai import ChatGoogleGenerativeAI, GoogleGenerativeAIEmbeddings\n",
    "load_dotenv()\n",
    "google_embedding = GoogleGenerativeAIEmbeddings(model='models/embedding-001')\n",
    "model  = ChatGoogleGenerativeAI(model = 'gemini-1.5-flash')\n",
    "\n",
    "\n"
   ]
  },
  {
   "cell_type": "code",
   "execution_count": 50,
   "id": "b0987dce",
   "metadata": {},
   "outputs": [],
   "source": [
    "import time\n",
    "from pinecone import Pinecone, ServerlessSpec\n",
    "pc = Pinecone(api_key='pcsk_6xp3m6_RZNgC8S9uU9hYcS48M8v6wF3pJbeQoRd37kmKtSBb7aNEwgfLn4dKGGEYAjTVDC')\n",
    "index_name = \"langchain-test-index\"  # change if desired\n",
    "\n",
    "existing_indexes = [index_info[\"name\"] for index_info in pc.list_indexes()]\n",
    "\n",
    "if index_name not in existing_indexes:\n",
    "    pc.create_index(\n",
    "        name=index_name,\n",
    "        dimension=768,\n",
    "        metric=\"cosine\",\n",
    "        spec=ServerlessSpec(cloud=\"aws\", region=\"us-east-1\"),\n",
    "    )\n",
    "    while not pc.describe_index(index_name).status[\"ready\"]:\n",
    "        time.sleep(1)\n",
    "\n",
    "index = pc.Index(index_name)"
   ]
  },
  {
   "cell_type": "code",
   "execution_count": 51,
   "id": "860d58f5",
   "metadata": {},
   "outputs": [],
   "source": [
    "from langchain_pinecone import PineconeVectorStore\n",
    "\n",
    "vector_store = PineconeVectorStore(index=index, embedding=google_embedding)"
   ]
  },
  {
   "cell_type": "code",
   "execution_count": 52,
   "id": "8cd61449",
   "metadata": {},
   "outputs": [
    {
     "data": {
      "text/plain": [
       "['0b1feb52-3c9f-48b9-ab91-0a0de5edc2d5',\n",
       " '03d80aba-561a-4e39-a8c4-da65e1a427ae',\n",
       " 'f8159b88-257d-485d-b42a-5b2aafaa4f7a',\n",
       " 'da1c76a6-18b1-4fc5-83e7-068c2f84665c',\n",
       " 'cd798676-fdbb-4ea0-84df-f5e7465c2ef9',\n",
       " '057b41ba-473a-4e1b-b6c9-d800a28a3bb5',\n",
       " 'd8a564bb-6df4-41e0-b68f-abe7c0b74675',\n",
       " '148fbd3c-bc37-4a13-9d9e-0a7f52e4c600',\n",
       " '26e124a1-7df0-4849-9527-5b98b3a12a67',\n",
       " '64f1e1dc-ee38-479a-b32f-961cd7e89760']"
      ]
     },
     "execution_count": 52,
     "metadata": {},
     "output_type": "execute_result"
    }
   ],
   "source": [
    "from uuid import uuid4\n",
    "\n",
    "from langchain_core.documents import Document\n",
    "\n",
    "document_1 = Document(\n",
    "    page_content=\"I had chocalate chip pancakes and scrambled eggs for breakfast this morning.\",\n",
    "    metadata={\"source\": \"tweet\"},\n",
    ")\n",
    "\n",
    "document_2 = Document(\n",
    "    page_content=\"The weather forecast for tomorrow is cloudy and overcast, with a high of 62 degrees.\",\n",
    "    metadata={\"source\": \"news\"},\n",
    ")\n",
    "\n",
    "document_3 = Document(\n",
    "    page_content=\"Building an exciting new project with LangChain - come check it out!\",\n",
    "    metadata={\"source\": \"tweet\"},\n",
    ")\n",
    "\n",
    "document_4 = Document(\n",
    "    page_content=\"Robbers broke into the city bank and stole $1 million in cash.\",\n",
    "    metadata={\"source\": \"news\"},\n",
    ")\n",
    "\n",
    "document_5 = Document(\n",
    "    page_content=\"Wow! That was an amazing movie. I can't wait to see it again.\",\n",
    "    metadata={\"source\": \"tweet\"},\n",
    ")\n",
    "\n",
    "document_6 = Document(\n",
    "    page_content=\"Is the new iPhone worth the price? Read this review to find out.\",\n",
    "    metadata={\"source\": \"website\"},\n",
    ")\n",
    "\n",
    "document_7 = Document(\n",
    "    page_content=\"The top 10 soccer players in the world right now.\",\n",
    "    metadata={\"source\": \"website\"},\n",
    ")\n",
    "\n",
    "document_8 = Document(\n",
    "    page_content=\"LangGraph is the best framework for building stateful, agentic applications!\",\n",
    "    metadata={\"source\": \"tweet\"},\n",
    ")\n",
    "\n",
    "document_9 = Document(\n",
    "    page_content=\"The stock market is down 500 points today due to fears of a recession.\",\n",
    "    metadata={\"source\": \"news\"},\n",
    ")\n",
    "\n",
    "document_10 = Document(\n",
    "    page_content=\"I have a bad feeling I am going to get deleted :(\",\n",
    "    metadata={\"source\": \"tweet\"},\n",
    ")\n",
    "\n",
    "documents = [\n",
    "    document_1,\n",
    "    document_2,\n",
    "    document_3,\n",
    "    document_4,\n",
    "    document_5,\n",
    "    document_6,\n",
    "    document_7,\n",
    "    document_8,\n",
    "    document_9,\n",
    "    document_10,\n",
    "]\n",
    "uuids = [str(uuid4()) for _ in range(len(documents))]\n",
    "\n",
    "vector_store.add_documents(documents=documents, ids=uuids)"
   ]
  },
  {
   "cell_type": "code",
   "execution_count": 53,
   "id": "02eff88a",
   "metadata": {},
   "outputs": [
    {
     "name": "stdout",
     "output_type": "stream",
     "text": [
      "[]\n"
     ]
    }
   ],
   "source": [
    "results = vector_store.similarity_search(\n",
    "    \"What is weatherr forecast for tommorow\",\n",
    "    k=2,\n",
    "   \n",
    ")\n",
    "print(results)"
   ]
  },
  {
   "cell_type": "code",
   "execution_count": 57,
   "id": "47da61a4",
   "metadata": {},
   "outputs": [],
   "source": [
    "from langchain_community.document_loaders import PyPDFLoader\n",
    "\n",
    "loader = PyPDFLoader('../langchain-tutorial/documents/ragdocs.pdf')\n",
    "docs = loader.load()\n",
    "\n"
   ]
  },
  {
   "cell_type": "code",
   "execution_count": 58,
   "id": "fdea6626",
   "metadata": {},
   "outputs": [
    {
     "data": {
      "text/plain": [
       "['096ba100-e2de-4af2-b324-67c4f55ec05f',\n",
       " '6b2a37ab-b9ae-4922-88c7-05d9dc7d9c08',\n",
       " 'e4c791d1-aefb-4eef-ac1f-6ba58733a8e4']"
      ]
     },
     "execution_count": 58,
     "metadata": {},
     "output_type": "execute_result"
    }
   ],
   "source": [
    "vector_store.add_documents(documents=docs)"
   ]
  },
  {
   "cell_type": "code",
   "execution_count": 59,
   "id": "f06b558d",
   "metadata": {},
   "outputs": [
    {
     "data": {
      "text/plain": [
       "'Based on the provided text, Vatsal and Aneri Desai are from Charusat University.'"
      ]
     },
     "execution_count": 59,
     "metadata": {},
     "output_type": "execute_result"
    }
   ],
   "source": [
    "\n",
    "from langchain_core.prompts import PromptTemplate\n",
    "from langchain_core.output_parsers import StrOutputParser\n",
    "parser = StrOutputParser()\n",
    "template = PromptTemplate(\n",
    "    template='anser the give questtion {question} , based on provided information->{info}',\n",
    "    input_variables=['question','info']\n",
    ")\n",
    "\n",
    "chain = template|model|parser\n",
    "txt = \"who are from charusat universsity\"\n",
    "results = vector_store.similarity_search(\n",
    "    txt,\n",
    "    k=3,\n",
    "   \n",
    ")\n",
    "\n",
    "chain.invoke({'question':txt ,'info':results})"
   ]
  }
 ],
 "metadata": {
  "kernelspec": {
   "display_name": "base",
   "language": "python",
   "name": "python3"
  },
  "language_info": {
   "codemirror_mode": {
    "name": "ipython",
    "version": 3
   },
   "file_extension": ".py",
   "mimetype": "text/x-python",
   "name": "python",
   "nbconvert_exporter": "python",
   "pygments_lexer": "ipython3",
   "version": "3.12.7"
  }
 },
 "nbformat": 4,
 "nbformat_minor": 5
}
